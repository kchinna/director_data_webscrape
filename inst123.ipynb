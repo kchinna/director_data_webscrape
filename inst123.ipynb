{
 "cells": [
  {
   "cell_type": "code",
   "execution_count": 1,
   "metadata": {},
   "outputs": [],
   "source": [
    "import pandas as pd\n",
    "import requests\n",
    "from bs4 import BeautifulSoup"
   ]
  },
  {
   "cell_type": "code",
   "execution_count": 23,
   "metadata": {},
   "outputs": [],
   "source": [
    "# Dataframe to store all parsed data\n",
    "# Populated with information from landing page on top 100 directors\n",
    "df = pd.read_csv('top100_directors.csv')"
   ]
  },
  {
   "cell_type": "code",
   "execution_count": 26,
   "metadata": {},
   "outputs": [
    {
     "name": "stdout",
     "output_type": "stream",
     "text": [
      "101\n",
      "201\n",
      "301\n",
      "401\n",
      "501\n",
      "601\n",
      "701\n",
      "801\n",
      "901\n",
      "1001\n",
      "1101\n",
      "1201\n",
      "1301\n",
      "1401\n",
      "1501\n",
      "1601\n",
      "1701\n",
      "1801\n",
      "1901\n",
      "2001\n",
      "2101\n",
      "2201\n",
      "2301\n",
      "2401\n",
      "2501\n",
      "2601\n",
      "2701\n",
      "2801\n",
      "2901\n"
     ]
    },
    {
     "data": {
      "text/html": [
       "<div>\n",
       "<style scoped>\n",
       "    .dataframe tbody tr th:only-of-type {\n",
       "        vertical-align: middle;\n",
       "    }\n",
       "\n",
       "    .dataframe tbody tr th {\n",
       "        vertical-align: top;\n",
       "    }\n",
       "\n",
       "    .dataframe thead th {\n",
       "        text-align: right;\n",
       "    }\n",
       "</style>\n",
       "<table border=\"1\" class=\"dataframe\">\n",
       "  <thead>\n",
       "    <tr style=\"text-align: right;\">\n",
       "      <th></th>\n",
       "      <th>Rank</th>\n",
       "      <th>Name</th>\n",
       "      <th>Worldwide Box Office</th>\n",
       "      <th>Movies</th>\n",
       "      <th>Average</th>\n",
       "    </tr>\n",
       "  </thead>\n",
       "  <tbody>\n",
       "    <tr>\n",
       "      <th>95</th>\n",
       "      <td>2996</td>\n",
       "      <td>Werner Boote</td>\n",
       "      <td>$13,689,039</td>\n",
       "      <td>2</td>\n",
       "      <td>$6,844,520</td>\n",
       "    </tr>\n",
       "    <tr>\n",
       "      <th>96</th>\n",
       "      <td>2997</td>\n",
       "      <td>Tuck Tucker</td>\n",
       "      <td>$13,684,949</td>\n",
       "      <td>1</td>\n",
       "      <td>$13,684,949</td>\n",
       "    </tr>\n",
       "    <tr>\n",
       "      <th>97</th>\n",
       "      <td>2998</td>\n",
       "      <td>Tatsuyuki Nagai</td>\n",
       "      <td>$13,640,711</td>\n",
       "      <td>3</td>\n",
       "      <td>$4,546,904</td>\n",
       "    </tr>\n",
       "    <tr>\n",
       "      <th>98</th>\n",
       "      <td>2999</td>\n",
       "      <td>Martin Provost</td>\n",
       "      <td>$13,637,206</td>\n",
       "      <td>4</td>\n",
       "      <td>$3,409,302</td>\n",
       "    </tr>\n",
       "    <tr>\n",
       "      <th>99</th>\n",
       "      <td>3000</td>\n",
       "      <td>Tom Sito</td>\n",
       "      <td>$13,596,911</td>\n",
       "      <td>1</td>\n",
       "      <td>$13,596,911</td>\n",
       "    </tr>\n",
       "  </tbody>\n",
       "</table>\n",
       "</div>"
      ],
      "text/plain": [
       "    Rank             Name Worldwide Box Office  Movies      Average\n",
       "95  2996     Werner Boote          $13,689,039       2   $6,844,520\n",
       "96  2997      Tuck Tucker          $13,684,949       1  $13,684,949\n",
       "97  2998  Tatsuyuki Nagai          $13,640,711       3   $4,546,904\n",
       "98  2999   Martin Provost          $13,637,206       4   $3,409,302\n",
       "99  3000         Tom Sito          $13,596,911       1  $13,596,911"
      ]
     },
     "metadata": {},
     "output_type": "display_data"
    }
   ],
   "source": [
    "# Headers for the HTTP request\n",
    "headers = {\n",
    "    'User-Agent': 'Mozilla/5.0 (Macintosh; Intel Mac OS X 10_15_7) AppleWebKit/537.36 (KHTML, like Gecko) Chrome/109.0.0.0 Safari/537.36',\n",
    "    'From': 'pleaseletmein@gmail.com'\n",
    "}\n",
    "\n",
    "# Only parse top 3000 directors\n",
    "for i in range(101, 3001, 100):\n",
    "    # Update url to see every page\n",
    "    url = 'https://www.the-numbers.com/box-office-star-records/worldwide/lifetime-specific-technical-role/director/' + str(i)\n",
    "\n",
    "    # Make an HTTP request to url and store response\n",
    "    response = requests.get(url, headers = headers)\n",
    "\n",
    "    # Parse the text from the webpage as HTML\n",
    "    soup = BeautifulSoup(response.text, 'html.parser')\n",
    "\n",
    "    # Find the table element containing the data and both extract and store the data\n",
    "    table = soup.find('table')\n",
    "\n",
    "    # Read the HTML table into a data frame\n",
    "    sector_data = pd.read_html(str(table), flavor = 'html5lib')[0]\n",
    "\n",
    "    # Update dataframe from data parsed on current page\n",
    "    df = pd.concat([df, sector_data])\n",
    "\n",
    "    # Document position\n",
    "    print(i)\n",
    "\n",
    "display(df.tail())"
   ]
  },
  {
   "cell_type": "code",
   "execution_count": 27,
   "metadata": {},
   "outputs": [],
   "source": [
    "df.to_csv('director_data.csv', index=False)"
   ]
  },
  {
   "cell_type": "code",
   "execution_count": null,
   "metadata": {},
   "outputs": [],
   "source": []
  }
 ],
 "metadata": {
  "kernelspec": {
   "display_name": "Python 3",
   "language": "python",
   "name": "python3"
  },
  "language_info": {
   "codemirror_mode": {
    "name": "ipython",
    "version": 3
   },
   "file_extension": ".py",
   "mimetype": "text/x-python",
   "name": "python",
   "nbconvert_exporter": "python",
   "pygments_lexer": "ipython3",
   "version": "3.10.6"
  }
 },
 "nbformat": 4,
 "nbformat_minor": 2
}
